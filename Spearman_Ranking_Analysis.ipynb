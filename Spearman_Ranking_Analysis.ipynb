{
  "nbformat": 4,
  "nbformat_minor": 0,
  "metadata": {
    "colab": {
      "provenance": [],
      "authorship_tag": "ABX9TyPT9lnL6zVdpg2FvYE1c4cN"
    },
    "kernelspec": {
      "name": "python3",
      "display_name": "Python 3"
    },
    "language_info": {
      "name": "python"
    }
  },
  "cells": [
    {
      "cell_type": "code",
      "source": [
        "pip install tabulate"
      ],
      "metadata": {
        "id": "g-zmXHC0mwXc"
      },
      "execution_count": null,
      "outputs": []
    },
    {
      "cell_type": "code",
      "execution_count": null,
      "metadata": {
        "id": "gSTPETL6e6_8"
      },
      "outputs": [],
      "source": [
        "## REORDERING DRAFT CLASS BASED ON ADVANCED STATS\n",
        "\n",
        "import pandas as pd\n",
        "\n",
        "# Loading and filtering dataset for specific year\n",
        "df = pd.read_csv('your_dataset_path.csv')\n",
        "df_2023 = df[df['Draft Year'] == 2023]\n",
        "\n",
        "# Handling NaN values and reordering based on advanced stats\n",
        "df_2023['WS_Reordering'] = df_2023['WS'].rank(method='max', ascending=False, na_option='keep')\n",
        "df_2023['WS48_Reordering'] = df_2023['WS/48'].rank(method='max', ascending=False, na_option='keep')\n",
        "df_2023['BPM_Reordering'] = df_2023['BPM'].rank(method='max', ascending=False, na_option='keep')\n",
        "df_2023['VORP_Reordering'] = df_2023['VORP'].rank(method='max', ascending=False, na_option='keep')\n",
        "\n",
        "# Preparing the final output\n",
        "final_output = df_2023[['Pk', 'Tm', 'Player', 'WS_Reordering', 'WS48_Reordering', 'BPM_Reordering', 'VORP_Reordering']].copy()\n",
        "final_output.rename(columns={'Pk': 'Pick', 'Tm': 'Team'}, inplace=True)\n",
        "final_output = final_output.sort_values('Pick').reset_index(drop=True)\n",
        "\n",
        "# Export the final output to CSV\n",
        "final_output.to_csv('2023_NBA_Draft_Reordering_Full.csv', index=False)\n"
      ]
    },
    {
      "cell_type": "code",
      "source": [
        "## CALCULATING SPEARMAN COEFFICIENTS FOR DRAFT CLASSES\n",
        "\n",
        "import pandas as pd\n",
        "import numpy as np\n",
        "import matplotlib.pyplot as plt\n",
        "import matplotlib.colors as mcolors\n",
        "\n",
        "from scipy.stats import spearmanr\n",
        "from tabulate import tabulate\n",
        "\n",
        "# Loading dataset\n",
        "df = pd.read_csv('/content/Testing DRAFT CLASSES.csv', encoding='utf-8')\n",
        "df.fillna(-100, inplace=True)\n",
        "results = []\n",
        "\n",
        "# Loop through each year from 1984 to 2023\n",
        "for year in range(1984, 2024):\n",
        "    df_year = df[df['Draft Year'] == year].copy()\n",
        "\n",
        "    # Handling NaN values and reordering based on advanced stats\n",
        "    df_year['WS_Reordering'] = df_year['WS'].rank(method='max', ascending=False, na_option='keep')\n",
        "    df_year['WS48_Reordering'] = df_year['WS/48'].rank(method='max', ascending=False, na_option='keep')\n",
        "    df_year['BPM_Reordering'] = df_year['BPM'].rank(method='max', ascending=False, na_option='keep')\n",
        "    df_year['VORP_Reordering'] = df_year['VORP'].rank(method='max', ascending=False, na_option='keep')\n",
        "\n",
        "    # 'Average Rank' calculation\n",
        "    df_year['Average_Rank'] = df_year[['WS_Reordering', 'WS48_Reordering', 'BPM_Reordering', 'VORP_Reordering']].mean(axis=1)\n",
        "    final_output = df_year.rename(columns={'Pk': 'Pick', 'Tm': 'Team'})\n",
        "\n",
        "    # Average Spearman Correlation calculation\n",
        "    correlations = [\n",
        "        spearmanr(final_output['Pick'], final_output['WS_Reordering'].fillna(-100)).correlation,\n",
        "        spearmanr(final_output['Pick'], final_output['WS48_Reordering'].fillna(-100)).correlation,\n",
        "        spearmanr(final_output['Pick'], final_output['BPM_Reordering'].fillna(-100)).correlation,\n",
        "        spearmanr(final_output['Pick'], final_output['VORP_Reordering'].fillna(-100)).correlation\n",
        "    ]\n",
        "    spearman_corr_avg_rank = spearmanr(final_output['Pick'], final_output['Average_Rank']).correlation\n",
        "    average_spearman = np.nanmean(correlations)\n",
        "    results.append([year, average_spearman, spearman_corr_avg_rank])\n",
        "\n",
        "# Displaying the results in table\n",
        "results_df = pd.DataFrame(results, columns=['Year', 'Average Spearman Correlation', 'Spearman Correlation (Original vs. Average Rank)'])\n",
        "\n",
        "\n",
        "## COLOR MAPPING\n",
        "# Assign colors based on Spearman correlation values\n",
        "def get_color(value):\n",
        "    cmap = plt.cm.get_cmap('Blues')\n",
        "    norm = mcolors.Normalize(-1, 1)\n",
        "    return mcolors.to_hex(cmap(norm(value)))\n",
        "\n",
        "results_df['Average Spearman Color'] = results_df['Average Spearman Correlation'].apply(get_color)\n",
        "results_df['Spearman Correlation Color'] = results_df['Spearman Correlation (Original vs. Average Rank)'].apply(get_color)\n",
        "\n",
        "results_df['Average Spearman Correlation'] = results_df['Average Spearman Correlation'].apply(lambda x: f\"{x:.3f}\")\n",
        "results_df['Spearman Correlation (Original vs. Average Rank)'] = results_df['Spearman Correlation (Original vs. Average Rank)'].apply(lambda x: f\"{x:.3f}\")\n",
        "\n",
        "results_df.to_csv('spearman_correlation_results_with_colors.csv', index=False)\n"
      ],
      "metadata": {
        "id": "D18UuMxz3fXA"
      },
      "execution_count": null,
      "outputs": []
    },
    {
      "cell_type": "code",
      "source": [
        "## CONVERTING TABLE TO LATEX CODE\n",
        "\n",
        "import pandas as pd\n",
        "\n",
        "# Load file\n",
        "df = pd.read_csv('/content/Spearman Coefficients with Colors (1984 to 2023).csv')\n",
        "\n",
        "latex_code = \"\\\\begin{tabular}{|l|c|c|}\\n\\\\hline\\n\"\n",
        "latex_code += \"\\\\rowcolor{gray!20}\\n\\\\textbf{Year} & \\\\textbf{Average Spearman Corr.} & \\\\textbf{Spearman Corr. (Avg. Rank)} \\\\\\\\ \\\\hline\\n\"\n",
        "\n",
        "# Looping through DataFrame\n",
        "for index, row in df.iterrows():\n",
        "    year = int(row['Year'])\n",
        "    avg_corr = row['Average Spearman Correlation']\n",
        "    rank_corr = row['Spearman Correlation (Average Rank)']\n",
        "    # Check the values to determine the color of the cell\n",
        "    avg_corr_color = 'lightgreen' if avg_corr >= 0.5 else 'lightred'\n",
        "    rank_corr_color = 'lightgreen' if rank_corr >= 0.5 else 'lightred'\n",
        "    latex_code += f\"\\\\textbf{{{year}}} & \\\\cellcolor{{{avg_corr_color}}}{avg_corr:.3f} & \\\\cellcolor{{{rank_corr_color}}}{rank_corr:.3f} \\\\\\\\ \\\\hline\\n\"\n",
        "\n",
        "latex_code += \"\\\\end{tabular}\\n\"\n",
        "\n",
        "with open('spearman_coefficients_table.txt', 'w') as file:\n",
        "    file.write(latex_code)\n"
      ],
      "metadata": {
        "id": "97MHcgbtv1vG"
      },
      "execution_count": null,
      "outputs": []
    }
  ]
}