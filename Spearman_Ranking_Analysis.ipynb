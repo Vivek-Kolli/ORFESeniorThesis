{
  "nbformat": 4,
  "nbformat_minor": 0,
  "metadata": {
    "colab": {
      "provenance": [],
      "authorship_tag": "ABX9TyNN2Ps5dCjRsDe8JXTHP5a2"
    },
    "kernelspec": {
      "name": "python3",
      "display_name": "Python 3"
    },
    "language_info": {
      "name": "python"
    }
  },
  "cells": [
    {
      "cell_type": "code",
      "source": [
        "pip install tabulate\n"
      ],
      "metadata": {
        "colab": {
          "base_uri": "https://localhost:8080/"
        },
        "id": "g-zmXHC0mwXc",
        "outputId": "4541cb89-bdff-47f6-a61b-bed950367b47"
      },
      "execution_count": null,
      "outputs": [
        {
          "output_type": "stream",
          "name": "stdout",
          "text": [
            "Requirement already satisfied: tabulate in /usr/local/lib/python3.10/dist-packages (0.9.0)\n"
          ]
        }
      ]
    },
    {
      "cell_type": "code",
      "execution_count": null,
      "metadata": {
        "id": "gSTPETL6e6_8"
      },
      "outputs": [],
      "source": [
        "import pandas as pd\n",
        "\n",
        "# Load the dataset\n",
        "df = pd.read_csv('your_dataset_path.csv')\n",
        "\n",
        "# Filter for the 2023 draft class\n",
        "df_2023 = df[df['Draft Year'] == 2023]\n",
        "\n",
        "# Handling NaN values and reordering based on advanced stats\n",
        "df_2023['WS_Reordering'] = df_2023['WS'].rank(method='max', ascending=False, na_option='keep')\n",
        "df_2023['WS48_Reordering'] = df_2023['WS/48'].rank(method='max', ascending=False, na_option='keep')\n",
        "df_2023['BPM_Reordering'] = df_2023['BPM'].rank(method='max', ascending=False, na_option='keep')\n",
        "df_2023['VORP_Reordering'] = df_2023['VORP'].rank(method='max', ascending=False, na_option='keep')\n",
        "\n",
        "# Preparing the final output\n",
        "final_output = df_2023[['Pk', 'Tm', 'Player', 'WS_Reordering', 'WS48_Reordering', 'BPM_Reordering', 'VORP_Reordering']].copy()\n",
        "final_output.rename(columns={'Pk': 'Pick', 'Tm': 'Team'}, inplace=True)\n",
        "final_output = final_output.sort_values('Pick').reset_index(drop=True)\n",
        "\n",
        "# Export the final output to CSV\n",
        "final_output.to_csv('2023_NBA_Draft_Reordering_Full.csv', index=False)\n"
      ]
    },
    {
      "cell_type": "code",
      "source": [
        "import pandas as pd\n",
        "from scipy.stats import spearmanr\n",
        "import numpy as np\n",
        "from tabulate import tabulate\n",
        "\n",
        "# Load the dataset\n",
        "df = pd.read_csv('/content/NBA Draft Data (2021-2023 ALL PICKS).csv')\n",
        "\n",
        "# Filter for the 2023 draft class\n",
        "df_2023 = df[df['Draft Year'] == 2023]\n",
        "\n",
        "# Handling NaN values and reordering based on advanced stats\n",
        "df_2023['WS_Reordering'] = df_2023['WS'].rank(method='max', ascending=False, na_option='keep')\n",
        "df_2023['WS48_Reordering'] = df_2023['WS/48'].rank(method='max', ascending=False, na_option='keep')\n",
        "df_2023['BPM_Reordering'] = df_2023['BPM'].rank(method='max', ascending=False, na_option='keep')\n",
        "df_2023['VORP_Reordering'] = df_2023['VORP'].rank(method='max', ascending=False, na_option='keep')\n",
        "\n",
        "# Correcting 'Average Rank' calculation\n",
        "df_2023['Average_Rank'] = df_2023[['WS_Reordering', 'WS48_Reordering', 'BPM_Reordering', 'VORP_Reordering']].mean(axis=1)\n",
        "\n",
        "# Preparing the final output\n",
        "final_output = df_2023[['Pk', 'Tm', 'Player', 'WS_Reordering', 'WS48_Reordering', 'BPM_Reordering', 'VORP_Reordering', 'Average_Rank']].copy()\n",
        "final_output.rename(columns={'Pk': 'Pick', 'Tm': 'Team'}, inplace=True)\n",
        "final_output = final_output.sort_values('Pick').reset_index(drop=True)\n",
        "\n",
        "# Attempting Spearman rank correlation calculation again, with NaN handling\n",
        "correlations = [\n",
        "    spearmanr(df_2023['Pick'], df_2023['WS_Reordering'].fillna(-100)).correlation,\n",
        "    spearmanr(df_2023['Pick'], df_2023['WS48_Reordering'].fillna(-100)).correlation,\n",
        "    spearmanr(df_2023['Pick'], df_2023['BPM_Reordering'].fillna(-100)).correlation,\n",
        "    spearmanr(df_2023['Pick'], df_2023['VORP_Reordering'].fillna(-100)).correlation\n",
        "]\n",
        "average_spearman = np.nanmean(correlations)  # Using nanmean to ignore NaNs\n",
        "\n",
        "top_10_display = final_output_with_avg.head(10)\n",
        "\n",
        "# Converting the relevant part of the DataFrame to a list of lists for tabulate\n",
        "table_data = top_10_display[['Pick', 'Team', 'Player', 'WS_Reordering', 'WS48_Reordering', 'BPM_Reordering', 'VORP_Reordering', 'Average_Rank']].values.tolist()\n",
        "\n",
        "# Printing the table using tabulate\n",
        "print(tabulate(table_data, headers=['Pick', 'Team', 'Player', 'WS Reordering', 'WS/48 Reordering', 'BPM Reordering', 'VORP Reordering', 'Average Rank'], tablefmt='pretty'))\n",
        "\n",
        "# Export the final output to CSV\n",
        "#output_path = '2023_NBA_Draft_Reordering_Full_with_Avg.csv'\n",
        "#final_output.to_csv(output_path, index=False)\n",
        "\n",
        "print(f\"Average Spearman Rank Correlation: {average_spearman}\")"
      ],
      "metadata": {
        "id": "CX9-rafHfpBF"
      },
      "execution_count": null,
      "outputs": []
    },
    {
      "cell_type": "code",
      "source": [
        "import pandas as pd\n",
        "from scipy.stats import spearmanr\n",
        "import numpy as np\n",
        "from tabulate import tabulate\n",
        "\n",
        "# Load the dataset\n",
        "df = pd.read_csv('/content/2023 Draft CSV8.csv', encoding='utf-8')\n",
        "df.fillna(-100, inplace=True)\n",
        "\n",
        "# Filter for the 2023 draft class and make a copy to avoid SettingWithCopyWarning\n",
        "df_2023 = df[df['Draft Year'] == 2023].copy()\n",
        "\n",
        "# Handling NaN values and reordering based on advanced stats\n",
        "df_2023['WS_Reordering'] = df_2023['WS'].rank(method='max', ascending=False, na_option='keep')\n",
        "df_2023['WS48_Reordering'] = df_2023['WS/48'].rank(method='max', ascending=False, na_option='keep')\n",
        "df_2023['BPM_Reordering'] = df_2023['BPM'].rank(method='max', ascending=False, na_option='keep')\n",
        "df_2023['VORP_Reordering'] = df_2023['VORP'].rank(method='max', ascending=False, na_option='keep')\n",
        "\n",
        "# Calculate 'Average Rank'\n",
        "df_2023['Average_Rank'] = df_2023[['WS_Reordering', 'WS48_Reordering', 'BPM_Reordering', 'VORP_Reordering']].mean(axis=1)\n",
        "print(df_2023['Average_Rank'])\n",
        "\n",
        "# Rename columns to ensure we have 'Pick' and 'Team' instead of 'Pk' and 'Tm'\n",
        "final_output = df_2023.rename(columns={'Pk': 'Pick', 'Tm': 'Team'})\n",
        "\n",
        "# Sorting by 'Pick' for a coherent view\n",
        "final_output = final_output.sort_values('Pick').reset_index(drop=True)\n",
        "\n",
        "# Calculate the Spearman rank correlations to see how well the draft order matches the reordered rankings\n",
        "correlations = [\n",
        "    spearmanr(final_output['Pick'], final_output['WS_Reordering'].fillna(-100)).correlation,\n",
        "    spearmanr(final_output['Pick'], final_output['WS48_Reordering'].fillna(-100)).correlation,\n",
        "    spearmanr(final_output['Pick'], final_output['BPM_Reordering'].fillna(-100)).correlation,\n",
        "    spearmanr(final_output['Pick'], final_output['VORP_Reordering'].fillna(-100)).correlation\n",
        "]\n",
        "print(correlations)\n",
        "spearman_corr_avg_rank = spearmanr(final_output['Pick'], final_output['Average_Rank']).correlation\n",
        "print(spearman_corr_avg_rank)\n",
        "average_spearman = np.nanmean(correlations)  # Using nanmean to handle potential NaNs in correlations\n",
        "\n",
        "# Displaying the top 10 formatted table\n",
        "top_10_display = final_output.head(10)\n",
        "table_data = top_10_display[['Pick', 'Team', 'Player', 'WS_Reordering', 'WS48_Reordering', 'BPM_Reordering', 'VORP_Reordering', 'Average_Rank']].values.tolist()\n",
        "\n",
        "# Printing the table using tabulate\n",
        "print(tabulate(table_data, headers=['Pick', 'Team', 'Player', 'WS Reordering', 'WS/48 Reordering', 'BPM Reordering', 'VORP Reordering', 'Average Rank'], tablefmt='pretty'))\n",
        "\n",
        "# Print the average Spearman rank correlation\n",
        "print(f\"Average Spearman Rank Correlation: {average_spearman}\")\n"
      ],
      "metadata": {
        "id": "3rNtlItxnz-1"
      },
      "execution_count": null,
      "outputs": []
    },
    {
      "cell_type": "code",
      "source": [
        "import pandas as pd\n",
        "import numpy as np\n",
        "import matplotlib.pyplot as plt\n",
        "import matplotlib.colors as mcolors\n",
        "\n",
        "from scipy.stats import spearmanr\n",
        "from tabulate import tabulate\n",
        "\n",
        "# Load the dataset\n",
        "df = pd.read_csv('/content/Testing DRAFT CLASSES.csv', encoding='utf-8')\n",
        "df.fillna(-100, inplace=True)\n",
        "\n",
        "# Create an empty list to store results\n",
        "results = []\n",
        "\n",
        "# Loop through each year from 1984 to 2023\n",
        "for year in range(1984, 2024):\n",
        "    # Filter for the specific draft year and make a copy\n",
        "    df_year = df[df['Draft Year'] == year].copy()\n",
        "\n",
        "    # Handling NaN values and reordering based on advanced stats\n",
        "    df_year['WS_Reordering'] = df_year['WS'].rank(method='max', ascending=False, na_option='keep')\n",
        "    df_year['WS48_Reordering'] = df_year['WS/48'].rank(method='max', ascending=False, na_option='keep')\n",
        "    df_year['BPM_Reordering'] = df_year['BPM'].rank(method='max', ascending=False, na_option='keep')\n",
        "    df_year['VORP_Reordering'] = df_year['VORP'].rank(method='max', ascending=False, na_option='keep')\n",
        "\n",
        "    # Calculate 'Average Rank'\n",
        "    df_year['Average_Rank'] = df_year[['WS_Reordering', 'WS48_Reordering', 'BPM_Reordering', 'VORP_Reordering']].mean(axis=1)\n",
        "\n",
        "    # Rename columns to ensure we have 'Pick' and 'Team' instead of 'Pk' and 'Tm'\n",
        "    final_output = df_year.rename(columns={'Pk': 'Pick', 'Tm': 'Team'})\n",
        "\n",
        "    # Calculate the Spearman rank correlations to see how well the draft order matches the reordered rankings\n",
        "    correlations = [\n",
        "        spearmanr(final_output['Pick'], final_output['WS_Reordering'].fillna(-100)).correlation,\n",
        "        spearmanr(final_output['Pick'], final_output['WS48_Reordering'].fillna(-100)).correlation,\n",
        "        spearmanr(final_output['Pick'], final_output['BPM_Reordering'].fillna(-100)).correlation,\n",
        "        spearmanr(final_output['Pick'], final_output['VORP_Reordering'].fillna(-100)).correlation\n",
        "    ]\n",
        "    spearman_corr_avg_rank = spearmanr(final_output['Pick'], final_output['Average_Rank']).correlation\n",
        "    average_spearman = np.nanmean(correlations)  # Using nanmean to handle potential NaNs in correlations\n",
        "\n",
        "    # Append results to the list\n",
        "    results.append([year, average_spearman, spearman_corr_avg_rank])\n",
        "\n",
        "# Displaying the results in a formatted table\n",
        "results_df = pd.DataFrame(results, columns=['Year', 'Average Spearman Correlation', 'Spearman Correlation (Original vs. Average Rank)'])\n",
        "\n",
        "# Assign colors based on Spearman correlation values\n",
        "def get_color(value):\n",
        "    # Define colormap ranging from white to light blue\n",
        "    cmap = plt.cm.get_cmap('Blues')\n",
        "    norm = mcolors.Normalize(-1, 1)  # Normalize values to range from -1 to 1\n",
        "    return mcolors.to_hex(cmap(norm(value)))\n",
        "\n",
        "# Apply color formatting to the results DataFrame\n",
        "results_df['Average Spearman Color'] = results_df['Average Spearman Correlation'].apply(get_color)\n",
        "results_df['Spearman Correlation Color'] = results_df['Spearman Correlation (Original vs. Average Rank)'].apply(get_color)\n",
        "\n",
        "# Truncate numerical values to 3 decimal places with zero-padding\n",
        "results_df['Average Spearman Correlation'] = results_df['Average Spearman Correlation'].apply(lambda x: f\"{x:.3f}\")\n",
        "results_df['Spearman Correlation (Original vs. Average Rank)'] = results_df['Spearman Correlation (Original vs. Average Rank)'].apply(lambda x: f\"{x:.3f}\")\n",
        "\n",
        "# Save results to a CSV file\n",
        "results_df.to_csv('spearman_correlation_results_with_colors.csv', index=False)\n",
        "\n",
        "# Print the tabulated results with color values\n",
        "print(tabulate(results_df[['Year', 'Average Spearman Correlation', 'Average Spearman Color', 'Spearman Correlation (Original vs. Average Rank)', 'Spearman Correlation Color']], headers='keys', tablefmt='pretty'))\n"
      ],
      
        {
          "output_type": "stream",
          "name": "stderr",
          "text": [
            "<ipython-input-16-d0a65557df89>:52: MatplotlibDeprecationWarning: The get_cmap function was deprecated in Matplotlib 3.7 and will be removed two minor releases later. Use ``matplotlib.colormaps[name]`` or ``matplotlib.colormaps.get_cmap(obj)`` instead.\n",
            "  cmap = plt.cm.get_cmap('Blues')\n",
            "<ipython-input-16-d0a65557df89>:52: MatplotlibDeprecationWarning: The get_cmap function was deprecated in Matplotlib 3.7 and will be removed two minor releases later. Use ``matplotlib.colormaps[name]`` or ``matplotlib.colormaps.get_cmap(obj)`` instead.\n",
            "  cmap = plt.cm.get_cmap('Blues')\n"
          ]
        }
      ]
    },
    {
      "cell_type": "code",
      "source": [
        "import pandas as pd\n",
        "\n",
        "# Load your CSV file\n",
        "df = pd.read_csv('/content/Spearman Coefficients with Colors (1984 to 2023).csv')\n",
        "\n",
        "# Start the LaTeX table code\n",
        "latex_code = \"\\\\begin{tabular}{|l|c|c|}\\n\\\\hline\\n\"\n",
        "latex_code += \"\\\\rowcolor{gray!20}\\n\\\\textbf{Year} & \\\\textbf{Average Spearman Corr.} & \\\\textbf{Spearman Corr. (Avg. Rank)} \\\\\\\\ \\\\hline\\n\"\n",
        "\n",
        "# Loop through the DataFrame and add rows to the LaTeX code\n",
        "for index, row in df.iterrows():\n",
        "    year = int(row['Year'])  # Convert year to integer\n",
        "    avg_corr = row['Average Spearman Correlation']\n",
        "    rank_corr = row['Spearman Correlation (Average Rank)']\n",
        "    # Check the values to determine the color of the cell\n",
        "    avg_corr_color = 'lightgreen' if avg_corr >= 0.5 else 'lightred'\n",
        "    rank_corr_color = 'lightgreen' if rank_corr >= 0.5 else 'lightred'\n",
        "    # Add the row to the LaTeX code\n",
        "    latex_code += f\"\\\\textbf{{{year}}} & \\\\cellcolor{{{avg_corr_color}}}{avg_corr:.3f} & \\\\cellcolor{{{rank_corr_color}}}{rank_corr:.3f} \\\\\\\\ \\\\hline\\n\"\n",
        "\n",
        "# End the LaTeX table code\n",
        "latex_code += \"\\\\end{tabular}\\n\"\n",
        "\n",
        "# Save the LaTeX code to a .txt file\n",
        "with open('spearman_coefficients_table.txt', 'w') as file:\n",
        "    file.write(latex_code)\n",
        "\n",
        "print(\"LaTeX code saved as spearman_coefficients_table.txt\")\n"
      ],
      "metadata": {
        "colab": {
          "base_uri": "https://localhost:8080/"
        },
        "id": "97MHcgbtv1vG",
        "outputId": "b4e9e640-a9c8-422a-9e29-c012aada192c"
      },
      "execution_count": null,
      "outputs": [
        {
          "output_type": "stream",
          "name": "stdout",
          "text": [
            "LaTeX code saved as spearman_coefficients_table.txt\n"
          ]
        }
      ]
    }
  ]
}
