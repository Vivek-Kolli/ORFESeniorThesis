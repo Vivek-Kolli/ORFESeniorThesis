{
  "nbformat": 4,
  "nbformat_minor": 0,
  "metadata": {
    "colab": {
      "provenance": [],
      "authorship_tag": "ABX9TyNN2Ps5dCjRsDe8JXTHP5a2"
    },
    "kernelspec": {
      "name": "python3",
      "display_name": "Python 3"
    },
    "language_info": {
      "name": "python"
    }
  },
  "cells": [
    {
      "cell_type": "code",
      "source": [
        "pip install tabulate\n"
      ],
      "metadata": {
        "colab": {
          "base_uri": "https://localhost:8080/"
        },
        "id": "g-zmXHC0mwXc",
        "outputId": "4541cb89-bdff-47f6-a61b-bed950367b47"
      },
      "execution_count": null,
      "outputs": [
        {
          "output_type": "stream",
          "name": "stdout",
          "text": [
            "Requirement already satisfied: tabulate in /usr/local/lib/python3.10/dist-packages (0.9.0)\n"
          ]
        }
      ]
    },
    {
      "cell_type": "code",
      "execution_count": null,
      "metadata": {
        "id": "gSTPETL6e6_8"
      },
      "outputs": [],
      "source": [
        "import pandas as pd\n",
        "\n",
        "# Load the dataset\n",
        "df = pd.read_csv('your_dataset_path.csv')\n",
        "\n",
        "# Filter for the 2023 draft class\n",
        "df_2023 = df[df['Draft Year'] == 2023]\n",
        "\n",
        "# Handling NaN values and reordering based on advanced stats\n",
        "df_2023['WS_Reordering'] = df_2023['WS'].rank(method='max', ascending=False, na_option='keep')\n",
        "df_2023['WS48_Reordering'] = df_2023['WS/48'].rank(method='max', ascending=False, na_option='keep')\n",
        "df_2023['BPM_Reordering'] = df_2023['BPM'].rank(method='max', ascending=False, na_option='keep')\n",
        "df_2023['VORP_Reordering'] = df_2023['VORP'].rank(method='max', ascending=False, na_option='keep')\n",
        "\n",
        "# Preparing the final output\n",
        "final_output = df_2023[['Pk', 'Tm', 'Player', 'WS_Reordering', 'WS48_Reordering', 'BPM_Reordering', 'VORP_Reordering']].copy()\n",
        "final_output.rename(columns={'Pk': 'Pick', 'Tm': 'Team'}, inplace=True)\n",
        "final_output = final_output.sort_values('Pick').reset_index(drop=True)\n",
        "\n",
        "# Export the final output to CSV\n",
        "final_output.to_csv('2023_NBA_Draft_Reordering_Full.csv', index=False)\n"
      ]
    },
    {
      "cell_type": "code",
      "source": [
        "import pandas as pd\n",
        "from scipy.stats import spearmanr\n",
        "import numpy as np\n",
        "from tabulate import tabulate\n",
        "\n",
        "# Load the dataset\n",
        "df = pd.read_csv('/content/NBA Draft Data (2021-2023 ALL PICKS).csv')\n",
        "\n",
        "# Filter for the 2023 draft class\n",
        "df_2023 = df[df['Draft Year'] == 2023]\n",
        "\n",
        "# Handling NaN values and reordering based on advanced stats\n",
        "df_2023['WS_Reordering'] = df_2023['WS'].rank(method='max', ascending=False, na_option='keep')\n",
        "df_2023['WS48_Reordering'] = df_2023['WS/48'].rank(method='max', ascending=False, na_option='keep')\n",
        "df_2023['BPM_Reordering'] = df_2023['BPM'].rank(method='max', ascending=False, na_option='keep')\n",
        "df_2023['VORP_Reordering'] = df_2023['VORP'].rank(method='max', ascending=False, na_option='keep')\n",
        "\n",
        "# Correcting 'Average Rank' calculation\n",
        "df_2023['Average_Rank'] = df_2023[['WS_Reordering', 'WS48_Reordering', 'BPM_Reordering', 'VORP_Reordering']].mean(axis=1)\n",
        "\n",
        "# Preparing the final output\n",
        "final_output = df_2023[['Pk', 'Tm', 'Player', 'WS_Reordering', 'WS48_Reordering', 'BPM_Reordering', 'VORP_Reordering', 'Average_Rank']].copy()\n",
        "final_output.rename(columns={'Pk': 'Pick', 'Tm': 'Team'}, inplace=True)\n",
        "final_output = final_output.sort_values('Pick').reset_index(drop=True)\n",
        "\n",
        "# Attempting Spearman rank correlation calculation again, with NaN handling\n",
        "correlations = [\n",
        "    spearmanr(df_2023['Pick'], df_2023['WS_Reordering'].fillna(-100)).correlation,\n",
        "    spearmanr(df_2023['Pick'], df_2023['WS48_Reordering'].fillna(-100)).correlation,\n",
        "    spearmanr(df_2023['Pick'], df_2023['BPM_Reordering'].fillna(-100)).correlation,\n",
        "    spearmanr(df_2023['Pick'], df_2023['VORP_Reordering'].fillna(-100)).correlation\n",
        "]\n",
        "average_spearman = np.nanmean(correlations)  # Using nanmean to ignore NaNs\n",
        "\n",
        "top_10_display = final_output_with_avg.head(10)\n",
        "\n",
        "# Converting the relevant part of the DataFrame to a list of lists for tabulate\n",
        "table_data = top_10_display[['Pick', 'Team', 'Player', 'WS_Reordering', 'WS48_Reordering', 'BPM_Reordering', 'VORP_Reordering', 'Average_Rank']].values.tolist()\n",
        "\n",
        "# Printing the table using tabulate\n",
        "print(tabulate(table_data, headers=['Pick', 'Team', 'Player', 'WS Reordering', 'WS/48 Reordering', 'BPM Reordering', 'VORP Reordering', 'Average Rank'], tablefmt='pretty'))\n",
        "\n",
        "# Export the final output to CSV\n",
        "#output_path = '2023_NBA_Draft_Reordering_Full_with_Avg.csv'\n",
        "#final_output.to_csv(output_path, index=False)\n",
        "\n",
        "print(f\"Average Spearman Rank Correlation: {average_spearman}\")"
      ],
      "metadata": {
        "id": "CX9-rafHfpBF"
      },
      "execution_count": null,
      "outputs": []
    },
    {
      "cell_type": "code",
      "source": [
        "import pandas as pd\n",
        "from scipy.stats import spearmanr\n",
        "import numpy as np\n",
        "from tabulate import tabulate\n",
        "\n",
        "# Load the dataset\n",
        "df = pd.read_csv('/content/2023 Draft CSV8.csv', encoding='utf-8')\n",
        "df.fillna(-100, inplace=True)\n",
        "\n",
        "# Filter for the 2023 draft class and make a copy to avoid SettingWithCopyWarning\n",
        "df_2023 = df[df['Draft Year'] == 2023].copy()\n",
        "\n",
        "# Handling NaN values and reordering based on advanced stats\n",
        "df_2023['WS_Reordering'] = df_2023['WS'].rank(method='max', ascending=False, na_option='keep')\n",
        "df_2023['WS48_Reordering'] = df_2023['WS/48'].rank(method='max', ascending=False, na_option='keep')\n",
        "df_2023['BPM_Reordering'] = df_2023['BPM'].rank(method='max', ascending=False, na_option='keep')\n",
        "df_2023['VORP_Reordering'] = df_2023['VORP'].rank(method='max', ascending=False, na_option='keep')\n",
        "\n",
        "# Calculate 'Average Rank'\n",
        "df_2023['Average_Rank'] = df_2023[['WS_Reordering', 'WS48_Reordering', 'BPM_Reordering', 'VORP_Reordering']].mean(axis=1)\n",
        "print(df_2023['Average_Rank'])\n",
        "\n",
        "# Rename columns to ensure we have 'Pick' and 'Team' instead of 'Pk' and 'Tm'\n",
        "final_output = df_2023.rename(columns={'Pk': 'Pick', 'Tm': 'Team'})\n",
        "\n",
        "# Sorting by 'Pick' for a coherent view\n",
        "final_output = final_output.sort_values('Pick').reset_index(drop=True)\n",
        "\n",
        "# Calculate the Spearman rank correlations to see how well the draft order matches the reordered rankings\n",
        "correlations = [\n",
        "    spearmanr(final_output['Pick'], final_output['WS_Reordering'].fillna(-100)).correlation,\n",
        "    spearmanr(final_output['Pick'], final_output['WS48_Reordering'].fillna(-100)).correlation,\n",
        "    spearmanr(final_output['Pick'], final_output['BPM_Reordering'].fillna(-100)).correlation,\n",
        "    spearmanr(final_output['Pick'], final_output['VORP_Reordering'].fillna(-100)).correlation\n",
        "]\n",
        "print(correlations)\n",
        "spearman_corr_avg_rank = spearmanr(final_output['Pick'], final_output['Average_Rank']).correlation\n",
        "print(spearman_corr_avg_rank)\n",
        "average_spearman = np.nanmean(correlations)  # Using nanmean to handle potential NaNs in correlations\n",
        "\n",
        "# Displaying the top 10 formatted table\n",
        "top_10_display = final_output.head(10)\n",
        "table_data = top_10_display[['Pick', 'Team', 'Player', 'WS_Reordering', 'WS48_Reordering', 'BPM_Reordering', 'VORP_Reordering', 'Average_Rank']].values.tolist()\n",
        "\n",
        "# Printing the table using tabulate\n",
        "print(tabulate(table_data, headers=['Pick', 'Team', 'Player', 'WS Reordering', 'WS/48 Reordering', 'BPM Reordering', 'VORP Reordering', 'Average Rank'], tablefmt='pretty'))\n",
        "\n",
        "# Print the average Spearman rank correlation\n",
        "print(f\"Average Spearman Rank Correlation: {average_spearman}\")\n"
      ],
      "metadata": {
        "id": "3rNtlItxnz-1"
      },
      "execution_count": null,
      "outputs": []
    },
    {
      "cell_type": "code",
      "source": [
        "import pandas as pd\n",
        "import numpy as np\n",
        "import matplotlib.pyplot as plt\n",
        "import matplotlib.colors as mcolors\n",
        "\n",
        "from scipy.stats import spearmanr\n",
        "from tabulate import tabulate\n",
        "\n",
        "# Load the dataset\n",
        "df = pd.read_csv('/content/Testing DRAFT CLASSES.csv', encoding='utf-8')\n",
        "df.fillna(-100, inplace=True)\n",
        "\n",
        "# Create an empty list to store results\n",
        "results = []\n",
        "\n",
        "# Loop through each year from 1984 to 2023\n",
        "for year in range(1984, 2024):\n",
        "    # Filter for the specific draft year and make a copy\n",
        "    df_year = df[df['Draft Year'] == year].copy()\n",
        "\n",
        "    # Handling NaN values and reordering based on advanced stats\n",
        "    df_year['WS_Reordering'] = df_year['WS'].rank(method='max', ascending=False, na_option='keep')\n",
        "    df_year['WS48_Reordering'] = df_year['WS/48'].rank(method='max', ascending=False, na_option='keep')\n",
        "    df_year['BPM_Reordering'] = df_year['BPM'].rank(method='max', ascending=False, na_option='keep')\n",
        "    df_year['VORP_Reordering'] = df_year['VORP'].rank(method='max', ascending=False, na_option='keep')\n",
        "\n",
        "    # Calculate 'Average Rank'\n",
        "    df_year['Average_Rank'] = df_year[['WS_Reordering', 'WS48_Reordering', 'BPM_Reordering', 'VORP_Reordering']].mean(axis=1)\n",
        "\n",
        "    # Rename columns to ensure we have 'Pick' and 'Team' instead of 'Pk' and 'Tm'\n",
        "    final_output = df_year.rename(columns={'Pk': 'Pick', 'Tm': 'Team'})\n",
        "\n",
        "    # Calculate the Spearman rank correlations to see how well the draft order matches the reordered rankings\n",
        "    correlations = [\n",
        "        spearmanr(final_output['Pick'], final_output['WS_Reordering'].fillna(-100)).correlation,\n",
        "        spearmanr(final_output['Pick'], final_output['WS48_Reordering'].fillna(-100)).correlation,\n",
        "        spearmanr(final_output['Pick'], final_output['BPM_Reordering'].fillna(-100)).correlation,\n",
        "        spearmanr(final_output['Pick'], final_output['VORP_Reordering'].fillna(-100)).correlation\n",
        "    ]\n",
        "    spearman_corr_avg_rank = spearmanr(final_output['Pick'], final_output['Average_Rank']).correlation\n",
        "    average_spearman = np.nanmean(correlations)  # Using nanmean to handle potential NaNs in correlations\n",
        "\n",
        "    # Append results to the list\n",
        "    results.append([year, average_spearman, spearman_corr_avg_rank])\n",
        "\n",
        "# Displaying the results in a formatted table\n",
        "results_df = pd.DataFrame(results, columns=['Year', 'Average Spearman Correlation', 'Spearman Correlation (Original vs. Average Rank)'])\n",
        "\n",
        "# Assign colors based on Spearman correlation values\n",
        "def get_color(value):\n",
        "    # Define colormap ranging from white to light blue\n",
        "    cmap = plt.cm.get_cmap('Blues')\n",
        "    norm = mcolors.Normalize(-1, 1)  # Normalize values to range from -1 to 1\n",
        "    return mcolors.to_hex(cmap(norm(value)))\n",
        "\n",
        "# Apply color formatting to the results DataFrame\n",
        "results_df['Average Spearman Color'] = results_df['Average Spearman Correlation'].apply(get_color)\n",
        "results_df['Spearman Correlation Color'] = results_df['Spearman Correlation (Original vs. Average Rank)'].apply(get_color)\n",
        "\n",
        "# Truncate numerical values to 3 decimal places with zero-padding\n",
        "results_df['Average Spearman Correlation'] = results_df['Average Spearman Correlation'].apply(lambda x: f\"{x:.3f}\")\n",
        "results_df['Spearman Correlation (Original vs. Average Rank)'] = results_df['Spearman Correlation (Original vs. Average Rank)'].apply(lambda x: f\"{x:.3f}\")\n",
        "\n",
        "# Save results to a CSV file\n",
        "results_df.to_csv('spearman_correlation_results_with_colors.csv', index=False)\n",
        "\n",
        "# Print the tabulated results with color values\n",
        "print(tabulate(results_df[['Year', 'Average Spearman Correlation', 'Average Spearman Color', 'Spearman Correlation (Original vs. Average Rank)', 'Spearman Correlation Color']], headers='keys', tablefmt='pretty'))\n"
      ],
      "metadata": {
        "id": "D18UuMxz3fXA",
        "colab": {
          "base_uri": "https://localhost:8080/"
        },
        "outputId": "37b0acec-e786-4e07-cb9e-a9e4e4dc8f9d"
      },
      "execution_count": null,
      "outputs": [
        {
          "output_type": "stream",
          "name": "stdout",
          "text": [
            "+----+------+------------------------------+------------------------+--------------------------------------------------+----------------------------+\n",
            "|    | Year | Average Spearman Correlation | Average Spearman Color | Spearman Correlation (Original vs. Average Rank) | Spearman Correlation Color |\n",
            "+----+------+------------------------------+------------------------+--------------------------------------------------+----------------------------+\n",
            "| 0  | 1984 |            0.571             |        #1967ad         |                      0.576                       |          #1967ad           |\n",
            "| 1  | 1985 |            0.332             |        #3787c0         |                      0.350                       |          #3585bf           |\n",
            "| 2  | 1986 |            0.307             |        #3a8ac2         |                      0.322                       |          #3888c1           |\n",
            "| 3  | 1987 |            0.630             |        #1460a8         |                      0.636                       |          #135fa7           |\n",
            "| 4  | 1988 |            0.448             |        #2777b8         |                      0.472                       |          #2474b7           |\n",
            "| 5  | 1989 |            0.510             |        #206fb4         |                      0.537                       |          #1d6cb1           |\n",
            "| 6  | 1990 |            0.325             |        #3888c1         |                      0.356                       |          #3484bf           |\n",
            "| 7  | 1991 |            0.571             |        #1967ad         |                      0.583                       |          #1966ad           |\n",
            "| 8  | 1992 |            0.720             |        #0a549e         |                      0.749                       |          #08519c           |\n",
            "| 9  | 1993 |            0.561             |        #1b69af         |                      0.579                       |          #1966ad           |\n",
            "| 10 | 1994 |            0.456             |        #2676b8         |                      0.474                       |          #2474b7           |\n",
            "| 11 | 1995 |            0.589             |        #1865ac         |                      0.609                       |          #1562a9           |\n",
            "| 12 | 1996 |            0.565             |        #1a68ae         |                      0.593                       |          #1865ac           |\n",
            "| 13 | 1997 |            0.528             |        #1e6db2         |                      0.537                       |          #1d6cb1           |\n",
            "| 14 | 1998 |            0.516             |        #206fb4         |                      0.544                       |          #1c6bb0           |\n",
            "| 15 | 1999 |            0.554             |        #1c6ab0         |                      0.568                       |          #1a68ae           |\n",
            "| 16 | 2000 |            0.391             |        #2f7fbc         |                      0.449                       |          #2777b8           |\n",
            "| 17 | 2001 |            0.604             |        #1663aa         |                      0.638                       |          #135fa7           |\n",
            "| 18 | 2002 |            0.449             |        #2777b8         |                      0.451                       |          #2777b8           |\n",
            "| 19 | 2003 |            0.421             |        #2c7cba         |                      0.431                       |          #2a7ab9           |\n",
            "| 20 | 2004 |            0.713             |        #0b559f         |                      0.722                       |          #0a549e           |\n",
            "| 21 | 2005 |            0.294             |        #3c8cc3         |                      0.329                       |          #3787c0           |\n",
            "| 22 | 2006 |            0.457             |        #2676b8         |                      0.456                       |          #2676b8           |\n",
            "| 23 | 2007 |            0.594             |        #1764ab         |                      0.624                       |          #1561a9           |\n",
            "| 24 | 2008 |            0.636             |        #135fa7         |                      0.677                       |          #0f5aa3           |\n",
            "| 25 | 2009 |            0.487             |        #2272b6         |                      0.491                       |          #2272b6           |\n",
            "| 26 | 2010 |            0.572             |        #1967ad         |                      0.601                       |          #1764ab           |\n",
            "| 27 | 2011 |            0.514             |        #206fb4         |                      0.538                       |          #1d6cb1           |\n",
            "| 28 | 2012 |            0.493             |        #2171b5         |                      0.523                       |          #1f6eb3           |\n",
            "| 29 | 2013 |            0.628             |        #1460a8         |                      0.662                       |          #115ca5           |\n",
            "| 30 | 2014 |            0.468             |        #2575b7         |                      0.500                       |          #2070b4           |\n",
            "| 31 | 2015 |            0.599             |        #1764ab         |                      0.607                       |          #1663aa           |\n",
            "| 32 | 2016 |            0.523             |        #1e6db2         |                      0.555                       |          #1b69af           |\n",
            "| 33 | 2017 |            0.365             |        #3383be         |                      0.384                       |          #3080bd           |\n",
            "| 34 | 2018 |            0.479             |        #2373b6         |                      0.499                       |          #2171b5           |\n",
            "| 35 | 2019 |            0.392             |        #2f7fbc         |                      0.428                       |          #2b7bba           |\n",
            "| 36 | 2020 |            0.268             |        #3f8fc5         |                      0.280                       |          #3e8ec4           |\n",
            "| 37 | 2021 |            0.288             |        #3d8dc4         |                      0.304                       |          #3b8bc2           |\n",
            "| 38 | 2022 |            0.400             |        #2e7ebc         |                      0.411                       |          #2d7dbb           |\n",
            "| 39 | 2023 |            0.325             |        #3888c1         |                      0.367                       |          #3383be           |\n",
            "+----+------+------------------------------+------------------------+--------------------------------------------------+----------------------------+\n"
          ]
        },
        {
          "output_type": "stream",
          "name": "stderr",
          "text": [
            "<ipython-input-16-d0a65557df89>:52: MatplotlibDeprecationWarning: The get_cmap function was deprecated in Matplotlib 3.7 and will be removed two minor releases later. Use ``matplotlib.colormaps[name]`` or ``matplotlib.colormaps.get_cmap(obj)`` instead.\n",
            "  cmap = plt.cm.get_cmap('Blues')\n",
            "<ipython-input-16-d0a65557df89>:52: MatplotlibDeprecationWarning: The get_cmap function was deprecated in Matplotlib 3.7 and will be removed two minor releases later. Use ``matplotlib.colormaps[name]`` or ``matplotlib.colormaps.get_cmap(obj)`` instead.\n",
            "  cmap = plt.cm.get_cmap('Blues')\n"
          ]
        }
      ]
    },
    {
      "cell_type": "code",
      "source": [
        "import pandas as pd\n",
        "\n",
        "# Load your CSV file\n",
        "df = pd.read_csv('/content/Spearman Coefficients with Colors (1984 to 2023).csv')\n",
        "\n",
        "# Start the LaTeX table code\n",
        "latex_code = \"\\\\begin{tabular}{|l|c|c|}\\n\\\\hline\\n\"\n",
        "latex_code += \"\\\\rowcolor{gray!20}\\n\\\\textbf{Year} & \\\\textbf{Average Spearman Corr.} & \\\\textbf{Spearman Corr. (Avg. Rank)} \\\\\\\\ \\\\hline\\n\"\n",
        "\n",
        "# Loop through the DataFrame and add rows to the LaTeX code\n",
        "for index, row in df.iterrows():\n",
        "    year = int(row['Year'])  # Convert year to integer\n",
        "    avg_corr = row['Average Spearman Correlation']\n",
        "    rank_corr = row['Spearman Correlation (Average Rank)']\n",
        "    # Check the values to determine the color of the cell\n",
        "    avg_corr_color = 'lightgreen' if avg_corr >= 0.5 else 'lightred'\n",
        "    rank_corr_color = 'lightgreen' if rank_corr >= 0.5 else 'lightred'\n",
        "    # Add the row to the LaTeX code\n",
        "    latex_code += f\"\\\\textbf{{{year}}} & \\\\cellcolor{{{avg_corr_color}}}{avg_corr:.3f} & \\\\cellcolor{{{rank_corr_color}}}{rank_corr:.3f} \\\\\\\\ \\\\hline\\n\"\n",
        "\n",
        "# End the LaTeX table code\n",
        "latex_code += \"\\\\end{tabular}\\n\"\n",
        "\n",
        "# Save the LaTeX code to a .txt file\n",
        "with open('spearman_coefficients_table.txt', 'w') as file:\n",
        "    file.write(latex_code)\n",
        "\n",
        "print(\"LaTeX code saved as spearman_coefficients_table.txt\")\n"
      ],
      "metadata": {
        "colab": {
          "base_uri": "https://localhost:8080/"
        },
        "id": "97MHcgbtv1vG",
        "outputId": "b4e9e640-a9c8-422a-9e29-c012aada192c"
      },
      "execution_count": null,
      "outputs": [
        {
          "output_type": "stream",
          "name": "stdout",
          "text": [
            "LaTeX code saved as spearman_coefficients_table.txt\n"
          ]
        }
      ]
    }
  ]
}