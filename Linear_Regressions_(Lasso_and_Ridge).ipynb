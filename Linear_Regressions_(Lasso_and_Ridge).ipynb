{
  "nbformat": 4,
  "nbformat_minor": 0,
  "metadata": {
    "colab": {
      "provenance": [],
      "authorship_tag": "ABX9TyOm7t6h+8E1H1C+6Rf/evX4"
    },
    "kernelspec": {
      "name": "python3",
      "display_name": "Python 3"
    },
    "language_info": {
      "name": "python"
    }
  },
  "cells": [
    {
      "cell_type": "code",
      "source": [
        "## FINAL MODEL\n",
        "\n",
        "import pandas as pd\n",
        "import numpy as np\n",
        "from sklearn.model_selection import train_test_split, cross_validate\n",
        "from sklearn.linear_model import Lasso, RidgeCV\n",
        "from sklearn.metrics import make_scorer, r2_score, mean_squared_error\n",
        "\n",
        "# Loading dataset\n",
        "file_path = '/content/Full Dataset (Imputed Values).csv'\n",
        "data = pd.read_csv(file_path)\n",
        "\n",
        "# Use all numerical rows except for specified columns as features\n",
        "numerical_features = data.select_dtypes(include=['number']).columns\n",
        "features_to_exclude = ['WS', 'WS/48', 'BPM', 'VORP', 'VORP/48']\n",
        "selected_features = [feature for feature in numerical_features if feature not in features_to_exclude]\n",
        "\n",
        "train_data, test_data = train_test_split(data, test_size=0.2, random_state=42)\n",
        "\n",
        "# Computing medians for imputation and applying imputations\n",
        "X_train_median = train_data[selected_features].median()\n",
        "y_train_median = train_data['BPM'].median()\n",
        "\n",
        "X_train_selected = train_data[selected_features].fillna(X_train_median)\n",
        "X_test_selected = test_data[selected_features].fillna(X_train_median)\n",
        "y_train_vorp = train_data['BPM'].fillna(y_train_median)\n",
        "y_test_vorp = test_data['BPM'].fillna(y_train_median)\n",
        "\n",
        "# Function to perform cross-validation and calculate average evaluation metrics for training and testing\n",
        "def cross_validate_model(model, X, y, cv=5):\n",
        "    scoring = {'mse': 'neg_mean_squared_error', 'r2': 'r2'}\n",
        "    results = cross_validate(model, X, y, cv=cv, scoring=scoring, return_train_score=True)\n",
        "\n",
        "    # Negate MSE scores to make them positive\n",
        "    train_mse = -np.mean(results['train_mse'])\n",
        "    test_mse = -np.mean(results['test_mse'])\n",
        "\n",
        "    train_rmse = np.sqrt(train_mse)\n",
        "    test_rmse = np.sqrt(test_mse)\n",
        "\n",
        "    train_r2 = np.mean(results['train_r2'])\n",
        "    test_r2 = np.mean(results['test_r2'])\n",
        "\n",
        "    return train_mse, train_rmse, train_r2, test_mse, test_rmse, test_r2\n",
        "\n",
        "# Model preparation\n",
        "lasso_model_vorp = Lasso(alpha=0.5, max_iter=10000)\n",
        "alphas = np.logspace(-6, 6, 13)\n",
        "ridge_cv_vorp = RidgeCV(alphas=alphas, cv=5, scoring='neg_mean_squared_error')\n",
        "\n",
        "# Cross-validate models\n",
        "print(\"Cross-validating Lasso Model...\")\n",
        "lasso_metrics = cross_validate_model(lasso_model_vorp, X_train_selected, y_train_vorp)\n",
        "print(\"Lasso Metrics (Train MSE, Train RMSE, Train R2, Test MSE, Test RMSE, Test R2):\", lasso_metrics)\n",
        "\n",
        "print(\"\\nCross-validating Ridge Model...\")\n",
        "ridge_metrics = cross_validate_model(ridge_cv_vorp, X_train_selected, y_train_vorp)\n",
        "print(\"Ridge Metrics (Train MSE, Train RMSE, Train R2, Test MSE, Test RMSE, Test R2):\", ridge_metrics)"
      ],
      "metadata": {
        "id": "YIZvqhb8hrkk"
      },
      "execution_count": null,
      "outputs": []
    }
  ]
}