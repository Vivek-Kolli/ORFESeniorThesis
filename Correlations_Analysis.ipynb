{
  "nbformat": 4,
  "nbformat_minor": 0,
  "metadata": {
    "colab": {
      "provenance": [],
      "authorship_tag": "ABX9TyMS1k9gM4kUUfAqHcr4ltg6"
    },
    "kernelspec": {
      "name": "python3",
      "display_name": "Python 3"
    },
    "language_info": {
      "name": "python"
    }
  },
  "cells": [
    {
      "cell_type": "code",
      "execution_count": null,
      "metadata": {
        "id": "LGggik_XSCXe"
      },
      "outputs": [],
      "source": [
        "import pandas as pd\n",
        "\n",
        "def save_feature_correlations(dataset, target_columns, output_file):\n",
        "    \"\"\"\n",
        "    Save the correlation coefficients of all numerical columns in the dataset\n",
        "    with respect to specified target columns to a CSV file, rounded to three decimal places.\n",
        "\n",
        "    Args:\n",
        "        dataset (pd.DataFrame): The dataset containing the columns to correlate.\n",
        "        target_columns (list of str): The names of the target columns to correlate against.\n",
        "        output_file (str): The path of the output CSV file.\n",
        "    \"\"\"\n",
        "    # Select only numerical columns from the dataset\n",
        "    numerical_dataset = dataset.select_dtypes(include=['number'])\n",
        "\n",
        "    # Drop the 'Draft Year' column if it exists in the numerical dataset\n",
        "    if 'Draft Year' in numerical_dataset.columns:\n",
        "        numerical_dataset = numerical_dataset.drop(columns=['Draft Year'])\n",
        "\n",
        "    # Initialize a DataFrame to store feature correlations\n",
        "    correlations_df = pd.DataFrame(index=numerical_dataset.columns)\n",
        "\n",
        "    # Calculate and store correlations for each target column\n",
        "    for target_column in target_columns:\n",
        "        correlation_matrix = numerical_dataset.corrwith(numerical_dataset[target_column])\n",
        "        correlations_df[target_column] = correlation_matrix\n",
        "\n",
        "    # Round the correlation values to three decimal places\n",
        "    correlations_df = correlations_df.round(3)\n",
        "\n",
        "    # Save the rounded correlations to a CSV file\n",
        "    correlations_df.to_csv(output_file)\n",
        "\n",
        "# Example usage:\n",
        "dataset = pd.read_csv('/content/Full Dataset (Imputed Values).csv')  # Adjust the path to your dataset\n",
        "target_columns = ['WS/48', 'BPM', 'VORP/48']\n",
        "save_feature_correlations(dataset, target_columns, '/content/feature_correlations.csv')  # Adjust the output path as needed\n",
        "\n",
        "print('Correlations saved to /path/to/feature_correlations.csv')\n"
      ]
    },
    {
      "cell_type": "code",
      "source": [
        "import pandas as pd\n",
        "import seaborn as sns\n",
        "import matplotlib.pyplot as plt\n",
        "\n",
        "# Load the dataset\n",
        "file_path = '/content/feature_correlations (1).csv'  # Update path for file location\n",
        "data = pd.read_csv(file_path)\n",
        "data_melted = data.melt(id_vars=['Index'], value_vars=['WS/48', 'BPM', 'VORP/48'], var_name='Statistic', value_name='Correlation')\n",
        "\n",
        "# Plotting\n",
        "plt.figure(figsize=(14, 8))\n",
        "sns.barplot(x='Index', y='Correlation', hue='Statistic', data=data_melted, palette='bright')\n",
        "\n",
        "line_positions_26_27 = [25.5]\n",
        "line_positions_37_38 = [36.5]\n",
        "\n",
        "# Draw vertical red lines at specified positions\n",
        "for pos in line_positions_26_27 + line_positions_37_38:\n",
        "    plt.axvline(x=pos, color='black', linestyle='--', linewidth=2)\n",
        "\n",
        "plt.title('Feature Correlations with Advanced Statistics')\n",
        "plt.xlabel('Feature Index')\n",
        "plt.ylabel('Correlation')\n",
        "plt.xticks()\n",
        "plt.tight_layout()\n",
        "\n",
        "# Specify the output path for the image file you want to save\n",
        "output_image_path = '/content/sample_data'  # Update this path as needed\n",
        "plt.savefig(output_image_path)\n",
        "\n",
        "plt.show()"
      ],
      "metadata": {
        "id": "04K2nSeDSGVg"
      },
      "execution_count": null,
      "outputs": []
    }
  ]
}