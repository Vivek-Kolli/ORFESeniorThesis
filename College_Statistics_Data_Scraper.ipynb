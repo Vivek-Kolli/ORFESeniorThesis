{
  "nbformat": 4,
  "nbformat_minor": 0,
  "metadata": {
    "colab": {
      "provenance": [],
      "authorship_tag": "ABX9TyOGhciYhgH21THg5Rh/XwAO",
      "include_colab_link": true
    },
    "kernelspec": {
      "name": "python3",
      "display_name": "Python 3"
    },
    "language_info": {
      "name": "python"
    }
  },
  "cells": [
    {
      "cell_type": "markdown",
      "metadata": {
        "id": "view-in-github",
        "colab_type": "text"
      },
      "source": [
        "<a href=\"https://colab.research.google.com/github/Vivek-Kolli/ORFESeniorThesis/blob/main/College_Statistics_Data_Scraper.ipynb\" target=\"_parent\"><img src=\"https://colab.research.google.com/assets/colab-badge.svg\" alt=\"Open In Colab\"/></a>"
      ]
    },
    {
      "cell_type": "code",
      "source": [
        "import sys"
      ],
      "metadata": {
        "id": "FU4W0ZIzanFr"
      },
      "execution_count": null,
      "outputs": []
    },
    {
      "cell_type": "code",
      "source": [
        "## needed libraries\n",
        "from urllib.request import urlopen\n",
        "from bs4 import BeautifulSoup\n",
        "import pandas as pd\n",
        "import pandas as pd\n",
        "import numpy as np\n",
        "import plotly.express as px\n",
        "\n",
        "### error checking package\n",
        "import pdb\n",
        "import re\n",
        "\n",
        "### In order for this code to run as designed there needs to be a column in the dataset\n",
        "# That is title Link which contains the text string needed to be entered for there\n",
        "#College statistics url defined in the function. The string is formatted as\n",
        "# \"[First name]-[last name]-1\" for a majority of players.\n",
        "#I created this column using Excel and then loaded this data below\n",
        "\n",
        "draftdf = pd.read_csv('/content/NBA Draft Classes (2021 to 2023) CLEANED.csv', encoding='latin1')\n",
        "\n",
        "#creating a list of player links for the function to loop through\n",
        "player_links=[]\n",
        "for player in draftdf['Link']:\n",
        "    player_links.append(player)\n",
        "\n",
        "#Checking work\n",
        "print(player_links)"
      ],
      "metadata": {
        "colab": {
          "base_uri": "https://localhost:8080/"
        },
        "id": "3lFvGxn2avS4",
        "outputId": "0deb099b-dcf5-4246-8000-fded71d39ed5"
      },
      "execution_count": null,
      "outputs": [
        {
          "output_type": "stream",
          "name": "stdout",
          "text": [
            "['cade-cunningham-1', 'evan-mobley-1', 'scottie-barnes-1', 'jalen-suggs-1', 'franz-wagner-1', 'davion-mitchell-1', 'ziaire-williams-1', 'james-bouknight-1', 'joshua-primo-1', 'chris-duarte-1', 'moses-moody-1', 'corey-kispert-1', 'trey-murphyiii-1', 'tre-mann-1', 'kai-jones-1', 'jalen-johnson-24', 'keon-johnson-1', 'isaiah-jackson-1', 'josh-christopher-1', 'quentin-grimes-1', 'nahshon-hyland-1', 'cameron-thomas-1', 'jaden-springer-1', 'dayron-sharpe-1', 'santi-aldama-1', 'jeremiah-robinson-earl-1', 'jason-preston-1', 'herbert-jones-1', 'miles-mcbride-1', 'jt-thor-1', 'ayo-dosunmu-1', 'neemias-queta-1', 'jared-butler-1', 'joe-wieskamp-1', 'isaiah-livers-1', 'greg-brown-9', 'kessler-edwards-1', 'dalano-banton-1', 'david-johnson-1', 'sharife-cooper-1', 'marcus-zegarowski-1', 'filip-petrusev-1', 'brandon-bostonjr-1', 'luka-garza-1', 'charles-bassey-1', 'sandro-mamukelashvili-1', 'aaron-wiggins-1', 'scottie-lewis-1', 'balsa-koprivica-1', 'jericho-sims-1', 'raiquan-gray-1', 'paolo-banchero-1', 'chet-holmgren-1', 'jabari-smith-2', 'keegan-murray-1', 'jaden-ivey-1', 'bennedict-mathurin-1', 'jeremy-sochan-1', 'johnny-davis-3', 'jalen-williams-1', 'jalen-duren-1', 'ochai-agbaji-1', 'mark-williams-1', 'aj-griffin-1', 'tari-eason-1', 'dalen-terry-1', 'jake-laravia-1', 'malaki-branham-1', 'christian-braun-1', 'walker-kessler-1', 'david-roddy-1', 'blake-wesley-1', 'wendell-moorejr-1', 'patrick-baldwinjr-1', 'tyty-washingtonjr-1', 'peyton-watson-1', 'andrew-nembhard-1', 'caleb-houstan-1', 'christian-koloko-1', 'jaylin-williams-1', 'max-christie-1', 'kennedy-chandler-1', 'bryce-mcgowens-1', 'ej-liddell-1', 'trevor-keels-1', 'moussa-diabate-1', 'ryan-rollins-1', 'josh-minott-1', 'vince-williams-2', 'kendall-brown-1', 'isaiah-mobley-1', 'tyrese-martin-1', 'jd-davison-1', 'jabari-walker-1', 'brandon-miller-1', 'anthony-black-1', 'jarace-walker-1', 'taylor-hendricks-1', 'cason-wallace-1', 'jett-howard-1', 'dereck-lively-ii-1', 'gradey-dick-1', 'jordan-hawkins-1', 'kobe-bufkin-1', 'keyonte-george-1', 'jalen-hood-schifino-1', 'jaime-jaquezjr-1', 'brandin-podziemski-1', 'cam-whitmore-1', 'noah-clowney-1', 'dariq-whitehead-1', 'kris-murray-1', 'olivier-maxence-prosper-1', 'marcus-sasser-1', 'ben-sheppard-1', 'nick-smith-jr-1', 'brice-sensabaugh-1', 'julian-strawther-1', 'kobe-brown-1', 'jalen-pickett-1', 'colby-jones-1', 'julian-phillips-1', 'andre-jackson-8', 'tyson-hunter-1', 'jordan-walsh-1', 'mouhamed-gueye-1', 'maxwell-lewis-1', 'amari-bailey-1', 'gregory-jackson-ii-1', 'seth-lundy-1', 'jordan-miller-1', 'emoni-bates-1', 'keyontae-johnson-1', 'jalen-wilson-1', 'toumani-camara-1', 'jaylen-clark-1', 'jalen-slawson-1', 'isaiah-wong-1', 'trayce-jackson-davis-1', 'chris-livingston-1']\n"
          ]
        }
      ]
    },
    {
      "cell_type": "code",
      "execution_count": null,
      "metadata": {
        "id": "O68S3sFWAzr4"
      },
      "outputs": [],
      "source": [
        "## ORIGINAL\n",
        "## needed libraries\n",
        "from urllib.request import urlopen\n",
        "from bs4 import BeautifulSoup\n",
        "import pandas as pd\n",
        "import time\n",
        "\n",
        "### error checking package\n",
        "import pdb\n",
        "import re\n",
        "\n",
        "#Defining a function to collect data for each player from the NBA Draft dataset\n",
        "def scrape_college_statistics(links=[]):\n",
        "    player_stats=[]\n",
        "    failed_links = []\n",
        "    #iterating through player links\n",
        "    for link in links:\n",
        "        try:\n",
        "            time.sleep(4)\n",
        "            player_link = link\n",
        "            print(player_link)\n",
        "            #replacing section in url with appropriate player_link\n",
        "            url = f\"https://www.sports-reference.com/cbb/players/{player_link}.html\"\n",
        "            html = urlopen(url)\n",
        "            soup= BeautifulSoup(html, features = 'lxml')\n",
        "            soup_table = soup.find(name = 'table', attrs = {'id' : 'players_per_game'})\n",
        "\n",
        "\n",
        "            # get rows from table\n",
        "            for row in soup_table.find_all('tr')[-1:]:# Excluding the first 'tr', since that's the table's title head\n",
        "                player = {}\n",
        "                player['Player']= (draftdf['Player'].loc[draftdf['Link'] == link]).item()\n",
        "                player['College_Season'] = row.find('th', {'data-stat' : 'season'}).text\n",
        "                player['College'] = row.find('td', {'data-stat' : 'school_name'}).text\n",
        "                player['College_Games_Played'] = row.find('td', {'data-stat' : 'games'}).text\n",
        "                player['College_Games_Started'] = row.find('td', {'data-stat' : 'games_started'}).text\n",
        "                player['Minutes_per_game'] = row.find('td', {'data-stat': 'mp_per_g'}).text\n",
        "                player['College_Field_Goals_Made_Per_Game'] = row.find('td', {'data-stat' : 'fg_per_g'}).text\n",
        "                player['College_Field_Goals_Attempted_Per_Game'] = row.find('td', {'data-stat' : 'fga_per_g'}).text\n",
        "                player['College_FG%'] = row.find('td', {'data-stat' : 'fg_pct'}).text\n",
        "                player['College_2PT_Field_Goals_Made_Per_Game'] = row.find('td', {'data-stat' : 'fg2_per_g'}).text\n",
        "                player['College_2PT_Field_Goals_Attempted_Per_Game'] = row.find('td', {'data-stat' : 'fg2a_per_g'}).text\n",
        "                player['College_2PT_FG%'] = row.find('td', {'data-stat' : 'fg2_pct'}).text\n",
        "                player['College_3PT_Field_Goals_Made_Per_Game'] = row.find('td', {'data-stat' : 'fg3_per_g'}).text\n",
        "                player['College_3PT_Field_Goals_Attempted_Per_Game'] = row.find('td', {'data-stat' : 'fg3a_per_g'}).text\n",
        "                player['College_3PT_FG%'] = row.find('td', {'data-stat' : 'fg3_pct'}).text\n",
        "                player['College_Free_Throws_Made_Per_Game'] = row.find('td', {'data-stat' : 'ft_per_g'}).text\n",
        "                player['College_Free_Throws_Attempted_Per_Game'] = row.find('td', {'data-stat' : 'fta_per_g'}).text\n",
        "                player['College_FT%'] = row.find('td', {'data-stat' : 'ft_pct'}).text\n",
        "                player['Offensive_Rebounds_pergame'] = row.find('td', {'data-stat' : 'orb_per_g'}).text\n",
        "                player['Defensive_Rebounds_pergame'] = row.find('td', {'data-stat' : 'drb_per_g'}).text\n",
        "                player['Total_Rebounds_pergame'] = row.find('td', {'data-stat' : 'trb_per_g'}).text\n",
        "                player['Assists_pergame'] = row.find('td', {'data-stat' : 'ast_per_g'}).text\n",
        "                player['Steals_pergame'] = row.find('td', {'data-stat' : 'stl_per_g'}).text\n",
        "                player['Blocks_pergame'] = row.find('td', {'data-stat' : 'blk_per_g'}).text\n",
        "                player['Turnovers_pergame'] = row.find('td', {'data-stat' : 'tov_per_g'}).text\n",
        "                player['Fouls_pergame'] = row.find('td', {'data-stat' : 'pf_per_g'}).text\n",
        "                player['Points_pergame'] = row.find('td', {'data-stat' : 'pts_per_g'}).text\n",
        "                player['Minutes_per_game'] = row.find('td', {'data-stat': 'mp_per_g'}).text\n",
        "                player['Team_strength_of_schedule'] = row.find('td', {'data-stat' : 'sos'}).text\n",
        "\n",
        "                player_stats.append(player)\n",
        "\n",
        "        except Exception as e:\n",
        "          print(f\"Failed to process link: {link}. Error: {e}\")\n",
        "          failed_links.append(link)  # Add the failed link to the list\n",
        "          continue  # Skip the rest of the loop and proceed with the next link\n",
        "\n",
        "    print(\"Failed links:\", failed_links)\n",
        "\n",
        "\n",
        "#Collecting data into dataframe then placing into a csv file\n",
        "    df=pd.DataFrame(player_stats)\n",
        "    print(df)\n",
        "    df.to_csv('College_Statistics (2021 - 2023).csv')\n",
        "\n",
        "        ####\n",
        "### Calling the function\n",
        "scrape_college_statistics(links=player_links)"
      ]
    },
    {
      "cell_type": "code",
      "source": [
        "# Throws exceptions to show which players are fucked with links\n",
        "# Adding an exception to view any errors when collecting data for each player\n",
        "        #except:\n",
        "            #print('For player: ',link, 'sys.exc_info()[0]')"
      ],
      "metadata": {
        "id": "63q4-TIcVpIM"
      },
      "execution_count": null,
      "outputs": []
    }
  ]
}