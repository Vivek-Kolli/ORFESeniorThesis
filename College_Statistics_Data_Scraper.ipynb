{
  "nbformat": 4,
  "nbformat_minor": 0,
  "metadata": {
    "colab": {
      "provenance": [],
      "authorship_tag": "ABX9TyOGhciYhgH21THg5Rh/XwAO"
    },
    "kernelspec": {
      "name": "python3",
      "display_name": "Python 3"
    },
    "language_info": {
      "name": "python"
    }
  },
  "cells": [
    {
      "cell_type": "code",
      "source": [
        "import sys"
      ],
      "metadata": {
        "id": "FU4W0ZIzanFr"
      },
      "execution_count": null,
      "outputs": []
    },
    {
      "cell_type": "code",
      "source": [
        "## needed libraries\n",
        "from urllib.request import urlopen\n",
        "from bs4 import BeautifulSoup\n",
        "import pandas as pd\n",
        "import pandas as pd\n",
        "import numpy as np\n",
        "import plotly.express as px\n",
        "\n",
        "### error checking package\n",
        "import pdb\n",
        "import re\n",
        "\n",
        "### In order for this code to run as designed there needs to be a column in the dataset\n",
        "# That is title Link which contains the text string needed to be entered for there\n",
        "#College statistics url defined in the function. The string is formatted as\n",
        "# \"[First name]-[last name]-1\" for a majority of players.\n",
        "#I created this column using Excel and then loaded this data below\n",
        "\n",
        "draftdf = pd.read_csv('/content/NBA Draft Classes (2021 to 2023) CLEANED.csv', encoding='latin1')\n",
        "\n",
        "#creating a list of player links for the function to loop through\n",
        "player_links=[]\n",
        "for player in draftdf['Link']:\n",
        "    player_links.append(player)\n",
        "\n",
        "#Checking work\n",
        "print(player_links)"
      ],
      "metadata": {
        "id": "3lFvGxn2avS4"
      },
      "execution_count": null,
      "outputs": []
    },
    {
      "cell_type": "code",
      "execution_count": null,
      "metadata": {
        "id": "O68S3sFWAzr4"
      },
      "outputs": [],
      "source": [
        "## ORIGINAL\n",
        "## needed libraries\n",
        "from urllib.request import urlopen\n",
        "from bs4 import BeautifulSoup\n",
        "import pandas as pd\n",
        "import time\n",
        "\n",
        "### error checking package\n",
        "import pdb\n",
        "import re\n",
        "\n",
        "#Defining a function to collect data for each player from the NBA Draft dataset\n",
        "def scrape_college_statistics(links=[]):\n",
        "    player_stats=[]\n",
        "    failed_links = []\n",
        "    #iterating through player links\n",
        "    for link in links:\n",
        "        try:\n",
        "            time.sleep(4)\n",
        "            player_link = link\n",
        "            print(player_link)\n",
        "            #replacing section in url with appropriate player_link\n",
        "            url = f\"https://www.sports-reference.com/cbb/players/{player_link}.html\"\n",
        "            html = urlopen(url)\n",
        "            soup= BeautifulSoup(html, features = 'lxml')\n",
        "            soup_table = soup.find(name = 'table', attrs = {'id' : 'players_per_game'})\n",
        "\n",
        "\n",
        "            # get rows from table\n",
        "            for row in soup_table.find_all('tr')[-1:]:# Excluding the first 'tr', since that's the table's title head\n",
        "                player = {}\n",
        "                player['Player']= (draftdf['Player'].loc[draftdf['Link'] == link]).item()\n",
        "                player['College_Season'] = row.find('th', {'data-stat' : 'season'}).text\n",
        "                player['College'] = row.find('td', {'data-stat' : 'school_name'}).text\n",
        "                player['College_Games_Played'] = row.find('td', {'data-stat' : 'games'}).text\n",
        "                player['College_Games_Started'] = row.find('td', {'data-stat' : 'games_started'}).text\n",
        "                player['Minutes_per_game'] = row.find('td', {'data-stat': 'mp_per_g'}).text\n",
        "                player['College_Field_Goals_Made_Per_Game'] = row.find('td', {'data-stat' : 'fg_per_g'}).text\n",
        "                player['College_Field_Goals_Attempted_Per_Game'] = row.find('td', {'data-stat' : 'fga_per_g'}).text\n",
        "                player['College_FG%'] = row.find('td', {'data-stat' : 'fg_pct'}).text\n",
        "                player['College_2PT_Field_Goals_Made_Per_Game'] = row.find('td', {'data-stat' : 'fg2_per_g'}).text\n",
        "                player['College_2PT_Field_Goals_Attempted_Per_Game'] = row.find('td', {'data-stat' : 'fg2a_per_g'}).text\n",
        "                player['College_2PT_FG%'] = row.find('td', {'data-stat' : 'fg2_pct'}).text\n",
        "                player['College_3PT_Field_Goals_Made_Per_Game'] = row.find('td', {'data-stat' : 'fg3_per_g'}).text\n",
        "                player['College_3PT_Field_Goals_Attempted_Per_Game'] = row.find('td', {'data-stat' : 'fg3a_per_g'}).text\n",
        "                player['College_3PT_FG%'] = row.find('td', {'data-stat' : 'fg3_pct'}).text\n",
        "                player['College_Free_Throws_Made_Per_Game'] = row.find('td', {'data-stat' : 'ft_per_g'}).text\n",
        "                player['College_Free_Throws_Attempted_Per_Game'] = row.find('td', {'data-stat' : 'fta_per_g'}).text\n",
        "                player['College_FT%'] = row.find('td', {'data-stat' : 'ft_pct'}).text\n",
        "                player['Offensive_Rebounds_pergame'] = row.find('td', {'data-stat' : 'orb_per_g'}).text\n",
        "                player['Defensive_Rebounds_pergame'] = row.find('td', {'data-stat' : 'drb_per_g'}).text\n",
        "                player['Total_Rebounds_pergame'] = row.find('td', {'data-stat' : 'trb_per_g'}).text\n",
        "                player['Assists_pergame'] = row.find('td', {'data-stat' : 'ast_per_g'}).text\n",
        "                player['Steals_pergame'] = row.find('td', {'data-stat' : 'stl_per_g'}).text\n",
        "                player['Blocks_pergame'] = row.find('td', {'data-stat' : 'blk_per_g'}).text\n",
        "                player['Turnovers_pergame'] = row.find('td', {'data-stat' : 'tov_per_g'}).text\n",
        "                player['Fouls_pergame'] = row.find('td', {'data-stat' : 'pf_per_g'}).text\n",
        "                player['Points_pergame'] = row.find('td', {'data-stat' : 'pts_per_g'}).text\n",
        "                player['Minutes_per_game'] = row.find('td', {'data-stat': 'mp_per_g'}).text\n",
        "                player['Team_strength_of_schedule'] = row.find('td', {'data-stat' : 'sos'}).text\n",
        "\n",
        "                player_stats.append(player)\n",
        "\n",
        "        except Exception as e:\n",
        "          print(f\"Failed to process link: {link}. Error: {e}\")\n",
        "          failed_links.append(link)  # Add the failed link to the list\n",
        "          continue  # Skip the rest of the loop and proceed with the next link\n",
        "\n",
        "    print(\"Failed links:\", failed_links)\n",
        "\n",
        "\n",
        "#Collecting data into dataframe then placing into a csv file\n",
        "    df=pd.DataFrame(player_stats)\n",
        "    print(df)\n",
        "    df.to_csv('College_Statistics (2021 - 2023).csv')\n",
        "\n",
        "        ####\n",
        "### Calling the function\n",
        "scrape_college_statistics(links=player_links)"
      ]
    },
    {
      "cell_type": "code",
      "source": [
        "# Throws exceptions to show which players are fucked with links\n",
        "# Adding an exception to view any errors when collecting data for each player\n",
        "        #except:\n",
        "            #print('For player: ',link, 'sys.exc_info()[0]')"
      ],
      "metadata": {
        "id": "63q4-TIcVpIM"
      },
      "execution_count": null,
      "outputs": []
    }
  ]
}